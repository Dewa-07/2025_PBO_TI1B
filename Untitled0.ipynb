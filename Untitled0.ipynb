{
  "nbformat": 4,
  "nbformat_minor": 0,
  "metadata": {
    "colab": {
      "provenance": [],
      "authorship_tag": "ABX9TyOzd6Wzn8uO1G3RPMevhtqH",
      "include_colab_link": true
    },
    "kernelspec": {
      "name": "python3",
      "display_name": "Python 3"
    },
    "language_info": {
      "name": "python"
    }
  },
  "cells": [
    {
      "cell_type": "markdown",
      "metadata": {
        "id": "view-in-github",
        "colab_type": "text"
      },
      "source": [
        "<a href=\"https://colab.research.google.com/github/Dewa-07/2025_PBO_TI1B/blob/main/Untitled0.ipynb\" target=\"_parent\"><img src=\"https://colab.research.google.com/assets/colab-badge.svg\" alt=\"Open In Colab\"/></a>"
      ]
    },
    {
      "cell_type": "markdown",
      "source": [
        "Jobsheet 01:Dasar Pemrogaman Bahasa Python"
      ],
      "metadata": {
        "id": "VfImk9hUplEW"
      }
    },
    {
      "cell_type": "markdown",
      "source": [
        "Pratikum 01\n"
      ],
      "metadata": {
        "id": "g4OPK7T-qB9o"
      }
    },
    {
      "cell_type": "code",
      "execution_count": null,
      "metadata": {
        "id": "F7qbgl9mnErJ"
      },
      "outputs": [],
      "source": [
        "# prompt: angka_int = 10\n",
        "# print(angka_int)\n",
        "\n",
        "angka_int = 10\n",
        "angka_int\n",
        "# Jobsheet 01:Dasar Pemrogaman Bahasa Python\n",
        "# Pratikum 01\n",
        "#\n",
        "# No changes to existing code\n",
        "# Added comments to existing code\n",
        "# Note that the provided text was not executable code, just comments\n",
        "\n",
        "# Added a print statement to display the value of the variable.\n",
        "\n",
        "# Added more comments below the existing comments\n",
        "# More comments...\n",
        "# Even more comments...\n"
      ]
    }
  ]
}