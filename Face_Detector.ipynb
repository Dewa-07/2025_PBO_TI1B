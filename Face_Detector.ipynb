{
  "cells": [
    {
      "cell_type": "markdown",
      "metadata": {
        "id": "view-in-github",
        "colab_type": "text"
      },
      "source": [
        "<a href=\"https://colab.research.google.com/github/Dewa-07/2025_PBO_TI1B/blob/main/Face_Detector.ipynb\" target=\"_parent\"><img src=\"https://colab.research.google.com/assets/colab-badge.svg\" alt=\"Open In Colab\"/></a>"
      ]
    },
    {
      "cell_type": "code",
      "execution_count": 3,
      "metadata": {
        "colab": {
          "base_uri": "https://localhost:8080/"
        },
        "id": "f6DkjqMB2R7d",
        "outputId": "972a3f0f-eefa-4e73-b343-a39e6b8c8d78"
      },
      "outputs": [
        {
          "output_type": "stream",
          "name": "stdout",
          "text": [
            "Error: Gambar tidak ditemukan. Pastikan file ada di direktori yang benar.\n"
          ]
        }
      ],
      "source": [
        "from google.colab.patches import cv2_imshow\n",
        "import cv2\n",
        "\n",
        "img = cv2.imread('dityaaa.jpg')\n",
        "\n",
        "if img is None:\n",
        "    print(\"Error: Gambar tidak ditemukan. Pastikan file ada di direktori yang benar.\")\n",
        "else:\n",
        "\n",
        "    gray_img = cv2.cvtColor(img, cv2.COLOR_BGR2GRAY)\n",
        "\n",
        "\n",
        "    face_cascade = cv2.CascadeClassifier(cv2.data.haarcascades + 'haarcascade_frontalface_default.xml')\n",
        "    smile_cascade = cv2.CascadeClassifier(cv2.data.haarcascades + 'haarcascade_smile.xml')\n",
        "\n",
        "\n",
        "    faces = face_cascade.detectMultiScale(gray_img, 1.1, 9)\n",
        "\n",
        "    print('Number of detected faces:', len(faces))\n",
        "\n",
        "\n",
        "    for (x, y, w, h) in faces:\n",
        "\n",
        "        cv2.rectangle(img, (x, y), (x + w, y + h), (0, 255, 255), 2)\n",
        "        cv2.putText(img, \"Face\", (x, y - 10), cv2.FONT_HERSHEY_SIMPLEX, 1, (0, 255, 255), 2)\n",
        "\n",
        "\n",
        "        roi_gray = gray_img[y:y+h, x:x+w]\n",
        "        roi_color = img[y:y+h, x:x+w]\n",
        "\n",
        "\n",
        "        smiles = smile_cascade.detectMultiScale(roi_gray, 1.8, 20)\n",
        "\n",
        "        if len(smiles) > 0:\n",
        "            print(\"Smile detected\")\n",
        "            for (sx, sy, sw, sh) in smiles:\n",
        "                cv2.rectangle(roi_color, (sx, sy), ((sx + sw), (sy + sh)), (0, 0, 255), 2)\n",
        "                cv2.putText(roi_color, \"Smile\", (sx, sy - 10), cv2.FONT_HERSHEY_SIMPLEX, 1, (0, 0, 255), 2)\n",
        "        else:\n",
        "            print(\"Smile not detected\")\n",
        "\n",
        "    cv2_imshow(img)\n",
        "\n"
      ]
    }
  ],
  "metadata": {
    "colab": {
      "provenance": [],
      "authorship_tag": "ABX9TyPVf0kcIzlCrHtmVVh1JK5Z",
      "include_colab_link": true
    },
    "kernelspec": {
      "display_name": "Python 3",
      "name": "python3"
    },
    "language_info": {
      "name": "python"
    }
  },
  "nbformat": 4,
  "nbformat_minor": 0
}