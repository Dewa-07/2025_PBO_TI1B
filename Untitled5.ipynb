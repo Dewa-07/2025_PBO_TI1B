{
  "nbformat": 4,
  "nbformat_minor": 0,
  "metadata": {
    "colab": {
      "provenance": [],
      "collapsed_sections": [
        "K9pG_w2ln__b",
        "dqUdDzeKo_sG"
      ],
      "authorship_tag": "ABX9TyO2035WHlz4g8bwI5ClpMLH",
      "include_colab_link": true
    },
    "kernelspec": {
      "name": "python3",
      "display_name": "Python 3"
    },
    "language_info": {
      "name": "python"
    }
  },
  "cells": [
    {
      "cell_type": "markdown",
      "metadata": {
        "id": "view-in-github",
        "colab_type": "text"
      },
      "source": [
        "<a href=\"https://colab.research.google.com/github/Dewa-07/2025_PBO_TI1B/blob/main/Untitled5.ipynb\" target=\"_parent\"><img src=\"https://colab.research.google.com/assets/colab-badge.svg\" alt=\"Open In Colab\"/></a>"
      ]
    },
    {
      "cell_type": "markdown",
      "source": [
        "# JOBSHEET 2\n",
        "OPERASI MATEMATIKA, VEKTOR, MATRIKS DAN TIPE DATA\n",
        "\n"
      ],
      "metadata": {
        "id": "4ibS_7qZmM-u"
      }
    },
    {
      "cell_type": "markdown",
      "source": [
        "# Operasi Matematika dengan Python"
      ],
      "metadata": {
        "id": "PpV-UaQ6mpzS"
      }
    },
    {
      "cell_type": "markdown",
      "source": [
        "## -Nilai Minimum dan Maksimum"
      ],
      "metadata": {
        "id": "iBCxzu97npo5"
      }
    },
    {
      "cell_type": "code",
      "source": [
        "x = min(5, 10, 25)\n",
        "y = max(6, 12, 18)\n",
        "\n",
        "print(\"Min:\", x, \"Max:\", y)\n"
      ],
      "metadata": {
        "colab": {
          "base_uri": "https://localhost:8080/"
        },
        "id": "Q_H5UiwUnjOv",
        "outputId": "38c995ce-8788-480d-a4d9-591d2407910f"
      },
      "execution_count": 23,
      "outputs": [
        {
          "output_type": "stream",
          "name": "stdout",
          "text": [
            "Min: 5 Max: 18\n"
          ]
        }
      ]
    },
    {
      "cell_type": "markdown",
      "source": [
        "## -Nilai Absolut"
      ],
      "metadata": {
        "id": "K9pG_w2ln__b"
      }
    },
    {
      "cell_type": "code",
      "source": [
        "x = abs(-7.25)\n",
        "print(\"Absolut:\", x)\n"
      ],
      "metadata": {
        "colab": {
          "base_uri": "https://localhost:8080/"
        },
        "id": "71Rfag_NoFZw",
        "outputId": "f5192b6c-fb94-43b2-ea3c-3eb5382b67db"
      },
      "execution_count": 24,
      "outputs": [
        {
          "output_type": "stream",
          "name": "stdout",
          "text": [
            "Absolut: 7.25\n"
          ]
        }
      ]
    },
    {
      "cell_type": "markdown",
      "source": [
        "## -Nilai Pangkat"
      ],
      "metadata": {
        "id": "eMHiFPYXoNkZ"
      }
    },
    {
      "cell_type": "code",
      "source": [
        "import math\n",
        "\n",
        "x = math.pow(4, 3)\n",
        "print(\"Pangkat:\", x)\n"
      ],
      "metadata": {
        "colab": {
          "base_uri": "https://localhost:8080/"
        },
        "id": "IJW3-m1VoSPV",
        "outputId": "3853c060-ffda-41af-860c-829dca70fae0"
      },
      "execution_count": 25,
      "outputs": [
        {
          "output_type": "stream",
          "name": "stdout",
          "text": [
            "Pangkat: 64.0\n"
          ]
        }
      ]
    },
    {
      "cell_type": "markdown",
      "source": [
        "## -Nilai Akar"
      ],
      "metadata": {
        "id": "B58lxbchoZC_"
      }
    },
    {
      "cell_type": "code",
      "source": [
        "x = math.sqrt(64)\n",
        "print(\"Akar:\", x)\n"
      ],
      "metadata": {
        "colab": {
          "base_uri": "https://localhost:8080/"
        },
        "id": "xQz4mVoqoeev",
        "outputId": "892dbfdf-1eff-41f2-924d-6b438468c4a7"
      },
      "execution_count": 26,
      "outputs": [
        {
          "output_type": "stream",
          "name": "stdout",
          "text": [
            "Akar: 8.0\n"
          ]
        }
      ]
    },
    {
      "cell_type": "markdown",
      "source": [
        "## -Nilai Pembulatan"
      ],
      "metadata": {
        "id": "8hHL_QNWoqpl"
      }
    },
    {
      "cell_type": "code",
      "source": [
        "x = math.ceil(1.4)\n",
        "y = math.floor(1.4)\n",
        "\n",
        "print(\"Ceil:\", x, \"Floor:\", y)\n"
      ],
      "metadata": {
        "colab": {
          "base_uri": "https://localhost:8080/"
        },
        "id": "NyfSNwyDovCf",
        "outputId": "97a4bbc2-533e-4746-c1e1-0ee6305fe1c9"
      },
      "execution_count": 27,
      "outputs": [
        {
          "output_type": "stream",
          "name": "stdout",
          "text": [
            "Ceil: 2 Floor: 1\n"
          ]
        }
      ]
    },
    {
      "cell_type": "markdown",
      "source": [
        "## -Konstanta π"
      ],
      "metadata": {
        "id": "9w6UfMJJo4du"
      }
    },
    {
      "cell_type": "code",
      "source": [
        "x = math.pi\n",
        "print(\"Nilai Pi:\", x)\n"
      ],
      "metadata": {
        "colab": {
          "base_uri": "https://localhost:8080/"
        },
        "id": "r1WrC60fo739",
        "outputId": "b4d57d8b-25f6-4d42-f357-d95f9520bbc7"
      },
      "execution_count": 28,
      "outputs": [
        {
          "output_type": "stream",
          "name": "stdout",
          "text": [
            "Nilai Pi: 3.141592653589793\n"
          ]
        }
      ]
    },
    {
      "cell_type": "markdown",
      "source": [
        "##Menggunakan Fungsi MATH"
      ],
      "metadata": {
        "id": "GAqJfLRhuz7f"
      }
    },
    {
      "cell_type": "code",
      "source": [
        "import math\n",
        "\n",
        "print(\"Sin 30°:\", math.sin(math.radians(30)))\n",
        "print(\"Cos 45°:\", math.cos(math.radians(45)))\n",
        "print(\"Tan 60°:\", math.tan(math.radians(60)))\n",
        "\n",
        "print(\"Log 10 dari 1000:\", math.log10(1000))\n",
        "print(\"Log natural dari 2.718:\", math.log(math.e))\n",
        "\n",
        "print(\"180 radian ke derajat:\", math.degrees(math.pi))\n",
        "\n",
        "print(\"Jarak antara (1,2) dan (4,6):\", math.dist([1,2], [4,6]))\n",
        "\n",
        "print(\"Faktorial 5:\", math.factorial(5))\n",
        "\n",
        "print(\"Modulo dari 17.5 % 4:\", math.fmod(17.5, 4))\n",
        "\n",
        "print(\"Apakah NaN?:\", math.isnan(float('nan')))\n",
        "\n",
        "print(\"Gamma dari 5:\", math.gamma(5))  # Gamma(n) = (n-1)!\n",
        "\n",
        "print(\"Permutasi 5P3:\", math.perm(5, 3))  # 5! / (5-3)!\n"
      ],
      "metadata": {
        "colab": {
          "base_uri": "https://localhost:8080/"
        },
        "id": "omMSMN9Tu8F-",
        "outputId": "66fb871c-825f-4feb-d321-87f8a7b2eeb9"
      },
      "execution_count": 29,
      "outputs": [
        {
          "output_type": "stream",
          "name": "stdout",
          "text": [
            "Sin 30°: 0.49999999999999994\n",
            "Cos 45°: 0.7071067811865476\n",
            "Tan 60°: 1.7320508075688767\n",
            "Log 10 dari 1000: 3.0\n",
            "Log natural dari 2.718: 1.0\n",
            "180 radian ke derajat: 180.0\n",
            "Jarak antara (1,2) dan (4,6): 5.0\n",
            "Faktorial 5: 120\n",
            "Modulo dari 17.5 % 4: 1.5\n",
            "Apakah NaN?: True\n",
            "Gamma dari 5: 24.0\n",
            "Permutasi 5P3: 60\n"
          ]
        }
      ]
    },
    {
      "cell_type": "markdown",
      "source": [
        "#Operasi Matriks dan Vektor di Python"
      ],
      "metadata": {
        "id": "dqUdDzeKo_sG"
      }
    },
    {
      "cell_type": "markdown",
      "source": [
        " ## -Penjumlahan Matriks"
      ],
      "metadata": {
        "id": "2qDArePppGe_"
      }
    },
    {
      "cell_type": "code",
      "source": [
        "import numpy as np\n",
        "\n",
        "A = np.array([[80, 30, 25], [50, 20, 10]])\n",
        "B = np.array([[30, 60, 15], [10, 30, 30]])\n",
        "\n",
        "hasil = A + B\n",
        "print(\"Penjumlahan Matriks:\\n\", hasil)\n"
      ],
      "metadata": {
        "colab": {
          "base_uri": "https://localhost:8080/"
        },
        "id": "lDSPuRakpMKM",
        "outputId": "8a0fcff6-04f4-43ae-d338-4e3d74df0bb3"
      },
      "execution_count": 16,
      "outputs": [
        {
          "output_type": "stream",
          "name": "stdout",
          "text": [
            "Penjumlahan Matriks:\n",
            " [[110  90  40]\n",
            " [ 60  50  40]]\n"
          ]
        }
      ]
    },
    {
      "cell_type": "markdown",
      "source": [
        "## -Dot Product (Perkalian Titik)"
      ],
      "metadata": {
        "id": "2NanYvOKpfto"
      }
    },
    {
      "cell_type": "code",
      "source": [
        "A = np.array([10, 20, 15])\n",
        "B = np.array([16, 67, 35])\n",
        "\n",
        "hasil = np.dot(A, B)\n",
        "print(\"Dot Product:\", hasil)\n"
      ],
      "metadata": {
        "colab": {
          "base_uri": "https://localhost:8080/"
        },
        "id": "DAshVzhZpnWG",
        "outputId": "29c24726-94a2-4001-915b-96f3d9ad524c"
      },
      "execution_count": 17,
      "outputs": [
        {
          "output_type": "stream",
          "name": "stdout",
          "text": [
            "Dot Product: 2025\n"
          ]
        }
      ]
    },
    {
      "cell_type": "markdown",
      "source": [
        "## -Cross Product (Perkalian Silang)"
      ],
      "metadata": {
        "id": "-J-tjPROpq2c"
      }
    },
    {
      "cell_type": "code",
      "source": [
        "A = np.array([10, 20, 15])\n",
        "B = np.array([16, 67, 35])\n",
        "\n",
        "hasil = np.cross(A, B)\n",
        "print(\"Cross Product:\\n\", hasil)\n"
      ],
      "metadata": {
        "colab": {
          "base_uri": "https://localhost:8080/"
        },
        "id": "TTuHpJOhpwEH",
        "outputId": "46ce70e8-672f-40fa-811b-4955050f1e5b"
      },
      "execution_count": 18,
      "outputs": [
        {
          "output_type": "stream",
          "name": "stdout",
          "text": [
            "Cross Product:\n",
            " [-305 -110  350]\n"
          ]
        }
      ]
    },
    {
      "cell_type": "markdown",
      "source": [
        "## -"
      ],
      "metadata": {
        "id": "QDqLrm5jpzIO"
      }
    },
    {
      "cell_type": "markdown",
      "source": [
        "#\tTUGAS PRAKTIKUM"
      ],
      "metadata": {
        "id": "hNraqI2us6XW"
      }
    },
    {
      "cell_type": "markdown",
      "source": [
        "##1"
      ],
      "metadata": {
        "id": "HwmhcqN7tG6g"
      }
    },
    {
      "cell_type": "code",
      "source": [
        "import numpy as np\n",
        "\n",
        "A = np.array([[3, 1], [2, 0]])\n",
        "B = np.array([[2, 1], [1, -1]])\n",
        "C = np.array([[-1, 1, 2], [2, 0, -1]])\n",
        "\n",
        "AB = np.dot(A, B)\n",
        "print(\"A x B =\\n\", AB)\n",
        "\n",
        "BC = np.dot(B, C)\n",
        "print(\"B x C =\\n\", BC)\n"
      ],
      "metadata": {
        "colab": {
          "base_uri": "https://localhost:8080/"
        },
        "id": "DkO1NFSctCZc",
        "outputId": "111fd302-c278-4070-caef-9848d38e10fa"
      },
      "execution_count": 32,
      "outputs": [
        {
          "output_type": "stream",
          "name": "stdout",
          "text": [
            "A x B =\n",
            " [[7 2]\n",
            " [4 2]]\n",
            "B x C =\n",
            " [[ 0  2  3]\n",
            " [-3  1  3]]\n"
          ]
        }
      ]
    },
    {
      "cell_type": "markdown",
      "source": [
        "## 2"
      ],
      "metadata": {
        "id": "SngzKpBdxXcI"
      }
    },
    {
      "cell_type": "code",
      "source": [
        "import math\n",
        "\n",
        "faktorial_6 = math.factorial(6)\n",
        "\n",
        "faktorial_8_per_5 = math.factorial(8) / math.factorial(5)\n",
        "\n",
        "print(\"6! =\", faktorial_6)\n",
        "print(\"8! / 5! =\", faktorial_8_per_5)\n"
      ],
      "metadata": {
        "colab": {
          "base_uri": "https://localhost:8080/"
        },
        "id": "iwnHsoB9xZS7",
        "outputId": "bf0f219d-d74b-4057-d0fa-4b7efdfa8d91"
      },
      "execution_count": 33,
      "outputs": [
        {
          "output_type": "stream",
          "name": "stdout",
          "text": [
            "6! = 720\n",
            "8! / 5! = 336.0\n"
          ]
        }
      ]
    },
    {
      "cell_type": "markdown",
      "source": [
        "## 3\n"
      ],
      "metadata": {
        "id": "yz77lOq41n4r"
      }
    },
    {
      "cell_type": "code",
      "source": [
        "import numpy as np\n",
        "\n",
        "A = np.array([5, 3, 7])\n",
        "B = np.array([12, -3, 1])\n",
        "\n",
        "panjang_A = np.linalg.norm(A)\n",
        "panjang_B = np.linalg.norm(B)\n",
        "\n",
        "dot_AB = np.dot(A, B)\n",
        "\n",
        "cross_AB = np.cross(A, B)\n",
        "\n",
        "print(\"Panjang vektor A =\", panjang_A)\n",
        "print(\"Panjang vektor B =\", panjang_B)\n",
        "print(\"A . B =\", dot_AB)\n",
        "print(\"A x B =\", cross_AB)\n"
      ],
      "metadata": {
        "colab": {
          "base_uri": "https://localhost:8080/"
        },
        "id": "_wI7Zv-_20F1",
        "outputId": "6f95a175-8bc7-497f-adb4-edd29a17c782"
      },
      "execution_count": 34,
      "outputs": [
        {
          "output_type": "stream",
          "name": "stdout",
          "text": [
            "Panjang vektor A = 9.1104335791443\n",
            "Panjang vektor B = 12.409673645990857\n",
            "A . B = 58\n",
            "A x B = [ 24  79 -51]\n"
          ]
        }
      ]
    }
  ]
}